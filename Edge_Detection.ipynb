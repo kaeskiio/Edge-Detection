{
  "nbformat": 4,
  "nbformat_minor": 0,
  "metadata": {
    "colab": {
      "provenance": []
    },
    "kernelspec": {
      "name": "python3",
      "display_name": "Python 3"
    },
    "language_info": {
      "name": "python"
    }
  },
  "cells": [
    {
      "cell_type": "code",
      "execution_count": null,
      "metadata": {
        "id": "OrX4GLPELTt0"
      },
      "outputs": [],
      "source": [
        "import cv2\n",
        "import numpy as np\n",
        "from google.colab.patches import cv2_imshow\n",
        "\n",
        "# Read the original image(enter image path)\n",
        "img = cv2.imread('djokovic.png')\n"
      ]
    },
    {
      "cell_type": "code",
      "source": [
        "img_gray = cv2.cvtColor(img, cv2.COLOR_BGR2GRAY)\n",
        "img_blur= cv2.GaussianBlur(img_gray, (3,3), 0)\n",
        "\n",
        "#Show gray Image\n",
        "cv2_imshow(img_gray)\n",
        "\n",
        "#Try simple derivative\n",
        "cv2_imshow(np.diff(img_blur, axis = 0))\n",
        "\n",
        "#Sobel Edge Detection\n",
        "sobel = cv2.Sobel(src = img_blur, ddepth=cv2.CV_64F, dx = 1, dy = 0, ksize = 5)\n",
        "cv2_imshow(sobel)\n",
        "\n",
        "#Canny Edge Detection\n",
        "canny = cv2.Canny(img_blur, 100, 200)\n",
        "cv2_imshow(canny)"
      ],
      "metadata": {
        "id": "p3SLTjJtMLOl"
      },
      "execution_count": null,
      "outputs": []
    }
  ]
}